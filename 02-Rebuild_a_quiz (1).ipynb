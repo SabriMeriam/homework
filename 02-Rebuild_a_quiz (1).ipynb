{
 "cells": [
  {
   "cell_type": "markdown",
   "metadata": {},
   "source": [
    "# Build a quiz - Part 2"
   ]
  },
  {
   "cell_type": "markdown",
   "metadata": {},
   "source": [
    "Below is the code we wrote yesterday, that asks three questions to the user and allows up to 3 wrong answers :"
   ]
  },
  {
   "cell_type": "code",
   "execution_count": null,
   "metadata": {},
   "outputs": [
    {
     "name": "stdout",
     "output_type": "stream",
     "text": [
      "Voici notre quiz, tu as trois chances !\n"
     ]
    }
   ],
   "source": [
    "nb_de_chances = 3\n",
    "\n",
    "print(\"Voici notre quiz, tu as trois chances !\")\n",
    "\n",
    "if nb_de_chances > 0:\n",
    "    question1= input(\"Combien de fois la France a gagné la coupe du monde ? \")\n",
    "    while question1 != \"2\":\n",
    "        nb_de_chances -= 1\n",
    "        print(\"Dommage ! Il te reste {} chances\".format(nb_de_chances))\n",
    "        if nb_de_chances == 0:\n",
    "            print(\"Oh non ! Tu as perdu le jeu...\")\n",
    "            break\n",
    "        question1 = input(\"Combien de fois la France a gagné la coupe du monde ? \")\n",
    "\n",
    "if nb_de_chances > 0:\n",
    "    question2 = input(\"Quand a été fondé Apple ? \")\n",
    "    while question2 != \"1976\":\n",
    "        nb_de_chances -=1\n",
    "        print(\"Dommage ! Il te reste {} chances\".format(nb_de_chances))\n",
    "        if nb_de_chances == 0:\n",
    "            print(\"Oh non ! Tu as perdu le jeu...\")\n",
    "            break\n",
    "        question2 = input(\"Quand a été fondé Apple ? \")\n",
    "\n",
    "\n",
    "if nb_de_chances > 0:\n",
    "    question3 = input(\"Qui a fondé SpaceX ? \")\n",
    "    question3 = question3.lower()\n",
    "    while question3 != \"elon musk\":\n",
    "        nb_de_chances -=1\n",
    "        print(\"Dommage ! Il te reste {} chances\".format(nb_de_chances))\n",
    "        if nb_de_chances == 0:\n",
    "            print(\"Oh non ! Tu as perdu le jeu...\")\n",
    "            break\n",
    "        question3 = input(\"Qui a fondé SpaceX ? \")\n",
    "        question3 = question3.lower()\n",
    "\n",
    "if nb_de_chances > 0:\n",
    "    print(\"Bravo ! Tu as gagné le quiz !\")\n"
   ]
  },
  {
   "cell_type": "markdown",
   "metadata": {},
   "source": [
    "Let's refactor our quiz now that we know how to be dry.\n",
    "\n",
    "SPECs: \n",
    "\n",
    "* Your code should be DRY \n",
    "* You should use functions "
   ]
  },
  {
   "cell_type": "code",
   "execution_count": null,
   "metadata": {},
   "outputs": [],
   "source": [
    "class Quizz() :\n",
    "    \n",
    "    def __init__(self) :\n",
    "    def questions(self,questions):    \n",
    "        self.questions = ['Combien de fois la France a gagné la coupe du monde ?',\n",
    "                          'Quand a été fondé Apple ?',\n",
    "                          'Qui a fondé SpaceX ?',\n",
    "                         'question4']\n",
    "    def reponses(self,reponses):    \n",
    "        self.reponses = ['2' , '1976', 'elon musk', 'reponse4']\n",
    "        \n",
    "        self.reponse_donnee = ''\n",
    "        self.numero_question = 0\n",
    "        self.nb_chances = 3\n",
    "    \n",
    "    def wrong_answer(self) :\n",
    "        self.nb_chances -= 1\n",
    "        print('Dommage ! Il te reste {} chance(s)'.format(self.nb_chances))\n",
    "        \n",
    "    def boucle_test_reponse(self) :\n",
    "        while not self.reponses[self.numero_question] == self.reponse_donnee :\n",
    "            self.wrong_answer()\n",
    "            if self.nb_chances == 0 :\n",
    "                print(\"Oh non ! Tu as perdu le jeu...\")\n",
    "                break\n",
    "            else :\n",
    "                self.reponse_donnee = input(self.questions[self.numero_question]).lower()\n",
    "            \n",
    "    def lancer_quizz(self) :\n",
    "        \n",
    "        print(\"Voici notre quiz, tu as {} chances !\".format(self.nb_chances))\n",
    "        \n",
    "        for question in self.questions :\n",
    "            self.reponse_donnee = input(question).lower()\n",
    "            \n",
    "            self.boucle_test_reponse()\n",
    "            \n",
    "            if self.nb_chances > 0 :\n",
    "                self.numero_question += 1\n",
    "            else :\n",
    "                break\n",
    "        if self.nb_chances > 0 :\n",
    "            print(\"Bravo ! Tu as gagné le quiz !\")"
   ]
  },
  {
   "cell_type": "code",
   "execution_count": null,
   "metadata": {},
   "outputs": [],
   "source": []
  }
 ],
 "metadata": {
  "kernelspec": {
   "display_name": "Python 3",
   "language": "python",
   "name": "python3"
  },
  "language_info": {
   "codemirror_mode": {
    "name": "ipython",
    "version": 3
   },
   "file_extension": ".py",
   "mimetype": "text/x-python",
   "name": "python",
   "nbconvert_exporter": "python",
   "pygments_lexer": "ipython3",
   "version": "3.8.6"
  }
 },
 "nbformat": 4,
 "nbformat_minor": 4
}
